{
 "cells": [
  {
   "cell_type": "code",
   "execution_count": 2,
   "metadata": {},
   "outputs": [],
   "source": [
    "import numpy as np\n",
    "from keras.datasets import mnist\n",
    "from keras.utils import to_categorical\n"
   ]
  },
  {
   "cell_type": "code",
   "execution_count": 3,
   "metadata": {},
   "outputs": [],
   "source": [
    "# 1. Загрузка данных MNIST\n",
    "(x_train, y_train), (x_test, y_test) = mnist.load_data()"
   ]
  },
  {
   "cell_type": "code",
   "execution_count": 4,
   "metadata": {},
   "outputs": [],
   "source": [
    "# Предобработка данных\n",
    "x_train = x_train.reshape(-1, 28*28).astype('float32') / 255.0\n",
    "x_test = x_test.reshape(-1, 28*28).astype('float32') / 255.0\n",
    "y_train = to_categorical(y_train, 10)\n",
    "y_test = to_categorical(y_test, 10)"
   ]
  },
  {
   "cell_type": "code",
   "execution_count": 5,
   "metadata": {},
   "outputs": [
    {
     "name": "stdout",
     "output_type": "stream",
     "text": [
      "(60000, 784)\n"
     ]
    }
   ],
   "source": [
    "print(x_train.shape)"
   ]
  },
  {
   "cell_type": "code",
   "execution_count": 6,
   "metadata": {},
   "outputs": [],
   "source": [
    "# Разделение на тренировочный и валидационный наборы\n",
    "split = 59000\n",
    "x_val, y_val = x_train[split:], y_train[split:]\n",
    "x_train, y_train = x_train[:split], y_train[:split]"
   ]
  },
  {
   "cell_type": "code",
   "execution_count": null,
   "metadata": {},
   "outputs": [],
   "source": [
    "# 2. Модифицированная функция обучения с валидацией\n",
    "def train_model(X, y, X_val, y_val, \n",
    "                hidden_size=[512], \n",
    "                learning_rate=0.001, epochs=10):\n",
    "    input_size = X.shape[1]\n",
    "    output_size = y.shape[1]\n",
    "    samples = X.shape[0]\n",
    "    hidden_sizes = [*hidden_size, output_size]\n",
    "    layers = len(hidden_sizes)\n",
    "    W = []\n",
    "    b = []\n",
    "    np.random.seed(42)\n",
    "    for i in range(0, layers):\n",
    "        # Регуляризация Ксавьера\n",
    "        W_i = np.random.randn(input_size     if i == 0          else hidden_size[i - 1], \n",
    "                              hidden_size[i] if i != layers - 1 else output_size) \n",
    "        W_i *= np.sqrt(2./(input_size if i == 0 else hidden_size[i - 1]))\n",
    "\n",
    "        b_i = np.zeros(hidden_size[i] if i != layers - 1 else output_size)\n",
    "\n",
    "        W.append(W_i)\n",
    "        b.append(b_i)\n",
    "\n",
    "    # Функции активации\n",
    "    softmax = lambda x: np.exp(x) / np.sum(np.exp(x), axis=1, keepdims=True)\n",
    "\n",
    "    for epoch in range(epochs):\n",
    "        indices = np.random.permutation(samples)\n",
    "        X_shuffled = X[indices]\n",
    "        y_shuffled = y[indices]\n",
    "\n",
    "        h = [X_shuffled]\n",
    "        # Прямое распространение\n",
    "        for i in range(0, layers):\n",
    "            z = h[i] @ W[i] + b[i]\n",
    "            h.append(z)\n",
    "\n",
    "        y_pred = softmax(h[-1])\n",
    "        loss = -np.mean(y_shuffled * np.log(y_pred + 1e-8))\n",
    "\n",
    "        buf = W[-1].T\n",
    "        # Обратное распостранение\n",
    "        for i in range(layers - 1, -1, -1):\n",
    "            dl = (y_pred - y_shuffled) / samples\n",
    "            dW = (h[i - layers - 1].T if i != 0 else X_shuffled.T) @ dl\n",
    "\n",
    "            if i != layers - 1:\n",
    "                dW = dW @ buf\n",
    "                dl = dl @ buf\n",
    "                buf = buf @ W[i].T\n",
    "\n",
    "            W[i] = W[i] - learning_rate * dW\n",
    "            b[i] = b[i] - learning_rate * np.sum(dl, axis=0, keepdims=True)\n",
    "\n",
    "        # Вычисление метрик\n",
    "        train_preds = np.argmax(y_pred, axis=1)\n",
    "        train_labels = np.argmax(y_shuffled, axis=1)\n",
    "        train_acc = np.mean(train_preds == train_labels)\n",
    "        \n",
    "        # Валидационная точность\n",
    "        z = X_val\n",
    "        for i in range(0, layers):\n",
    "            z = z @ W[i] + b[i]\n",
    "        z = softmax(z)\n",
    "        val_preds = np.argmax(z, axis=1)\n",
    "        val_labels = np.argmax(y_val, axis=1)\n",
    "        val_acc = np.mean(val_preds == val_labels)\n",
    "\n",
    "        print(f'Epoch {epoch+1}/{epochs} | Loss: {loss:.4f} | '\n",
    "              f'Train Acc: {train_acc:.4f} | Val Acc: {val_acc:.4f}')\n",
    "        \n",
    "    return W, b, layers\n",
    "\n"
   ]
  },
  {
   "cell_type": "code",
   "execution_count": 228,
   "metadata": {},
   "outputs": [
    {
     "name": "stdout",
     "output_type": "stream",
     "text": [
      "Epoch 1/50 | Loss: 0.3008 | Train Acc: 0.0878 | Val Acc: 0.3780\n",
      "Epoch 2/50 | Loss: 0.3023 | Train Acc: 0.3696 | Val Acc: 0.3140\n",
      "Epoch 3/50 | Loss: 0.3160 | Train Acc: 0.3129 | Val Acc: 0.5760\n",
      "Epoch 4/50 | Loss: 0.2586 | Train Acc: 0.5391 | Val Acc: 0.6280\n",
      "Epoch 5/50 | Loss: 0.2284 | Train Acc: 0.5699 | Val Acc: 0.6820\n",
      "Epoch 6/50 | Loss: 0.1417 | Train Acc: 0.6425 | Val Acc: 0.7720\n",
      "Epoch 7/50 | Loss: 0.1033 | Train Acc: 0.6923 | Val Acc: 0.8400\n",
      "Epoch 8/50 | Loss: 0.0767 | Train Acc: 0.7681 | Val Acc: 0.8660\n",
      "Epoch 9/50 | Loss: 0.0683 | Train Acc: 0.7933 | Val Acc: 0.8760\n",
      "Epoch 10/50 | Loss: 0.0650 | Train Acc: 0.8076 | Val Acc: 0.8830\n",
      "Epoch 11/50 | Loss: 0.0628 | Train Acc: 0.8145 | Val Acc: 0.8920\n",
      "Epoch 12/50 | Loss: 0.0609 | Train Acc: 0.8197 | Val Acc: 0.8970\n",
      "Epoch 13/50 | Loss: 0.0593 | Train Acc: 0.8262 | Val Acc: 0.9010\n",
      "Epoch 14/50 | Loss: 0.0577 | Train Acc: 0.8297 | Val Acc: 0.9050\n",
      "Epoch 15/50 | Loss: 0.0564 | Train Acc: 0.8367 | Val Acc: 0.9080\n",
      "Epoch 16/50 | Loss: 0.0550 | Train Acc: 0.8387 | Val Acc: 0.9130\n",
      "Epoch 17/50 | Loss: 0.0538 | Train Acc: 0.8453 | Val Acc: 0.9160\n",
      "Epoch 18/50 | Loss: 0.0527 | Train Acc: 0.8463 | Val Acc: 0.9170\n",
      "Epoch 19/50 | Loss: 0.0517 | Train Acc: 0.8519 | Val Acc: 0.9220\n",
      "Epoch 20/50 | Loss: 0.0508 | Train Acc: 0.8537 | Val Acc: 0.9220\n",
      "Epoch 21/50 | Loss: 0.0500 | Train Acc: 0.8571 | Val Acc: 0.9250\n",
      "Epoch 22/50 | Loss: 0.0493 | Train Acc: 0.8586 | Val Acc: 0.9240\n",
      "Epoch 23/50 | Loss: 0.0487 | Train Acc: 0.8606 | Val Acc: 0.9260\n",
      "Epoch 24/50 | Loss: 0.0481 | Train Acc: 0.8625 | Val Acc: 0.9240\n",
      "Epoch 25/50 | Loss: 0.0475 | Train Acc: 0.8642 | Val Acc: 0.9250\n",
      "Epoch 26/50 | Loss: 0.0470 | Train Acc: 0.8658 | Val Acc: 0.9270\n",
      "Epoch 27/50 | Loss: 0.0465 | Train Acc: 0.8675 | Val Acc: 0.9260\n",
      "Epoch 28/50 | Loss: 0.0460 | Train Acc: 0.8689 | Val Acc: 0.9260\n",
      "Epoch 29/50 | Loss: 0.0456 | Train Acc: 0.8700 | Val Acc: 0.9280\n",
      "Epoch 30/50 | Loss: 0.0452 | Train Acc: 0.8713 | Val Acc: 0.9290\n",
      "Epoch 31/50 | Loss: 0.0448 | Train Acc: 0.8723 | Val Acc: 0.9300\n",
      "Epoch 32/50 | Loss: 0.0444 | Train Acc: 0.8732 | Val Acc: 0.9280\n",
      "Epoch 33/50 | Loss: 0.0441 | Train Acc: 0.8742 | Val Acc: 0.9290\n",
      "Epoch 34/50 | Loss: 0.0437 | Train Acc: 0.8750 | Val Acc: 0.9290\n",
      "Epoch 35/50 | Loss: 0.0434 | Train Acc: 0.8760 | Val Acc: 0.9290\n",
      "Epoch 36/50 | Loss: 0.0431 | Train Acc: 0.8768 | Val Acc: 0.9310\n",
      "Epoch 37/50 | Loss: 0.0428 | Train Acc: 0.8775 | Val Acc: 0.9320\n",
      "Epoch 38/50 | Loss: 0.0426 | Train Acc: 0.8781 | Val Acc: 0.9320\n",
      "Epoch 39/50 | Loss: 0.0423 | Train Acc: 0.8786 | Val Acc: 0.9320\n",
      "Epoch 40/50 | Loss: 0.0420 | Train Acc: 0.8792 | Val Acc: 0.9320\n",
      "Epoch 41/50 | Loss: 0.0418 | Train Acc: 0.8799 | Val Acc: 0.9320\n",
      "Epoch 42/50 | Loss: 0.0415 | Train Acc: 0.8807 | Val Acc: 0.9320\n",
      "Epoch 43/50 | Loss: 0.0413 | Train Acc: 0.8813 | Val Acc: 0.9310\n",
      "Epoch 44/50 | Loss: 0.0411 | Train Acc: 0.8819 | Val Acc: 0.9310\n",
      "Epoch 45/50 | Loss: 0.0409 | Train Acc: 0.8825 | Val Acc: 0.9320\n",
      "Epoch 46/50 | Loss: 0.0407 | Train Acc: 0.8833 | Val Acc: 0.9310\n",
      "Epoch 47/50 | Loss: 0.0405 | Train Acc: 0.8838 | Val Acc: 0.9310\n",
      "Epoch 48/50 | Loss: 0.0403 | Train Acc: 0.8847 | Val Acc: 0.9300\n",
      "Epoch 49/50 | Loss: 0.0401 | Train Acc: 0.8852 | Val Acc: 0.9300\n",
      "Epoch 50/50 | Loss: 0.0399 | Train Acc: 0.8858 | Val Acc: 0.9300\n"
     ]
    }
   ],
   "source": [
    "W, b, layers = train_model(\n",
    "    X=x_train,\n",
    "    y=y_train,\n",
    "    X_val=x_val,\n",
    "    y_val=y_val,\n",
    "    hidden_size=[512, 512, 512],\n",
    "    learning_rate=0.05,\n",
    "    epochs=50\n",
    ")"
   ]
  },
  {
   "cell_type": "code",
   "execution_count": 222,
   "metadata": {},
   "outputs": [],
   "source": [
    "np.savez('model_weights.npz', layers, *W, *b)"
   ]
  }
 ],
 "metadata": {
  "kernelspec": {
   "display_name": "pytorch-gpu",
   "language": "python",
   "name": "python3"
  },
  "language_info": {
   "codemirror_mode": {
    "name": "ipython",
    "version": 3
   },
   "file_extension": ".py",
   "mimetype": "text/x-python",
   "name": "python",
   "nbconvert_exporter": "python",
   "pygments_lexer": "ipython3",
   "version": "3.12.4"
  }
 },
 "nbformat": 4,
 "nbformat_minor": 2
}
