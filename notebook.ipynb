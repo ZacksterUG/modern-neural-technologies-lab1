{
 "cells": [
  {
   "cell_type": "code",
   "execution_count": 75,
   "metadata": {},
   "outputs": [],
   "source": [
    "import numpy as np\n",
    "from keras.datasets import mnist\n",
    "from keras.utils import to_categorical\n"
   ]
  },
  {
   "cell_type": "code",
   "execution_count": 76,
   "metadata": {},
   "outputs": [],
   "source": [
    "# 1. Загрузка данных MNIST\n",
    "(x_train, y_train), (x_test, y_test) = mnist.load_data()"
   ]
  },
  {
   "cell_type": "code",
   "execution_count": 77,
   "metadata": {},
   "outputs": [],
   "source": [
    "# Предобработка данных\n",
    "x_train = x_train.reshape(-1, 28*28).astype('float32') / 255.0\n",
    "x_test = x_test.reshape(-1, 28*28).astype('float32') / 255.0\n",
    "y_train = to_categorical(y_train, 10)\n",
    "y_test = to_categorical(y_test, 10)"
   ]
  },
  {
   "cell_type": "code",
   "execution_count": 68,
   "metadata": {},
   "outputs": [
    {
     "name": "stdout",
     "output_type": "stream",
     "text": [
      "(60000, 784)\n"
     ]
    }
   ],
   "source": [
    "print(x_train.shape)"
   ]
  },
  {
   "cell_type": "code",
   "execution_count": 78,
   "metadata": {},
   "outputs": [],
   "source": [
    "# Разделение на тренировочный и валидационный наборы\n",
    "split = 59000\n",
    "x_val, y_val = x_train[split:], y_train[split:]\n",
    "x_train, y_train = x_train[:split], y_train[:split]"
   ]
  },
  {
   "cell_type": "code",
   "execution_count": 82,
   "metadata": {},
   "outputs": [],
   "source": [
    "# 2. Модифицированная функция обучения с валидацией\n",
    "def train_model(X, y, X_val, y_val, hidden_size=512, \n",
    "               learning_rate=0.001, epochs=10):\n",
    "    input_size = X.shape[1]\n",
    "    output_size = y.shape[1]\n",
    "    samples = X.shape[0]\n",
    "\n",
    "    # Инициализация параметров\n",
    "    np.random.seed(42)\n",
    "    W1 = np.random.randn(input_size, hidden_size) * np.sqrt(2./input_size)\n",
    "    b1 = np.zeros(hidden_size)\n",
    "    W2 = np.random.randn(hidden_size, output_size) * np.sqrt(2./hidden_size)\n",
    "    b2 = np.zeros(output_size)\n",
    "\n",
    "    # Функции активации\n",
    "    relu = lambda x: x\n",
    "    relu_deriv = lambda x: 1.0\n",
    "    softmax = lambda x: np.exp(x) / np.sum(np.exp(x), axis=1, keepdims=True)\n",
    "\n",
    "    for epoch in range(epochs):\n",
    "        # Перемешивание данных\n",
    "        indices = np.random.permutation(samples)\n",
    "        X_shuffled = X[indices]\n",
    "        y_shuffled = y[indices]\n",
    "\n",
    "        # Прямое распространение\n",
    "        h1 = X_shuffled @ W1 + b1\n",
    "        a1 = relu(h1)\n",
    "        h2 = a1.dot(W2) + b2\n",
    "        a2 = softmax(h2)\n",
    "\n",
    "        # Вычисление потерь\n",
    "        loss = -np.mean(y_shuffled * np.log(a2 + 1e-8))\n",
    "        \n",
    "        # Обратное распространение\n",
    "        dh2 = (a2 - y_shuffled) / samples\n",
    "        dW2 = a1.T @ dh2\n",
    "        db2 = dh2.sum(axis=0)\n",
    "        \n",
    "        dh1 = (dh2 @ W2.T) * relu_deriv(a1)\n",
    "        dW1 = X_shuffled.T @ dh1\n",
    "        db1 = dh1.sum(axis=0)\n",
    "\n",
    "        # Обновление параметров\n",
    "        W1 -= learning_rate * dW1\n",
    "        b1 -= learning_rate * db1\n",
    "        W2 -= learning_rate * dW2\n",
    "        b2 -= learning_rate * db2\n",
    "\n",
    "        # Вычисление метрик\n",
    "        train_preds = np.argmax(a2, axis=1)\n",
    "        train_labels = np.argmax(y_shuffled, axis=1)\n",
    "        train_acc = np.mean(train_preds == train_labels)\n",
    "        \n",
    "        # Валидационная точность\n",
    "        val_h1 = X_val @ W1 + b1\n",
    "        val_a1 = relu(val_h1)\n",
    "        val_h2 = val_a1 @ W2 + b2\n",
    "        val_a2 = softmax(val_h2)\n",
    "        \n",
    "        val_preds = np.argmax(val_a2, axis=1)\n",
    "        val_labels = np.argmax(y_val, axis=1)\n",
    "        val_acc = np.mean(val_preds == val_labels)\n",
    "\n",
    "        print(f'Epoch {epoch+1}/{epochs} | Loss: {loss:.4f} | '\n",
    "              f'Train Acc: {train_acc:.4f} | Val Acc: {val_acc:.4f}')\n",
    "\n",
    "    return W1, b1, W2, b2\n"
   ]
  },
  {
   "cell_type": "code",
   "execution_count": 83,
   "metadata": {},
   "outputs": [
    {
     "name": "stdout",
     "output_type": "stream",
     "text": [
      "Epoch 1/50 | Loss: 0.2476 | Train Acc: 0.1166 | Val Acc: 0.3340\n",
      "Epoch 2/50 | Loss: 0.2363 | Train Acc: 0.3504 | Val Acc: 0.4690\n",
      "Epoch 3/50 | Loss: 0.3289 | Train Acc: 0.4285 | Val Acc: 0.4550\n",
      "Epoch 4/50 | Loss: 0.2788 | Train Acc: 0.3945 | Val Acc: 0.5720\n",
      "Epoch 5/50 | Loss: 0.2087 | Train Acc: 0.5575 | Val Acc: 0.6470\n",
      "Epoch 6/50 | Loss: 0.1193 | Train Acc: 0.6185 | Val Acc: 0.8140\n",
      "Epoch 7/50 | Loss: 0.0791 | Train Acc: 0.7413 | Val Acc: 0.8900\n",
      "Epoch 8/50 | Loss: 0.0594 | Train Acc: 0.8316 | Val Acc: 0.9020\n",
      "Epoch 9/50 | Loss: 0.0564 | Train Acc: 0.8385 | Val Acc: 0.9050\n",
      "Epoch 10/50 | Loss: 0.0544 | Train Acc: 0.8501 | Val Acc: 0.9130\n",
      "Epoch 11/50 | Loss: 0.0528 | Train Acc: 0.8515 | Val Acc: 0.9110\n",
      "Epoch 12/50 | Loss: 0.0514 | Train Acc: 0.8596 | Val Acc: 0.9140\n",
      "Epoch 13/50 | Loss: 0.0502 | Train Acc: 0.8603 | Val Acc: 0.9140\n",
      "Epoch 14/50 | Loss: 0.0491 | Train Acc: 0.8667 | Val Acc: 0.9210\n",
      "Epoch 15/50 | Loss: 0.0481 | Train Acc: 0.8673 | Val Acc: 0.9170\n",
      "Epoch 16/50 | Loss: 0.0472 | Train Acc: 0.8721 | Val Acc: 0.9200\n",
      "Epoch 17/50 | Loss: 0.0464 | Train Acc: 0.8731 | Val Acc: 0.9200\n",
      "Epoch 18/50 | Loss: 0.0457 | Train Acc: 0.8760 | Val Acc: 0.9220\n",
      "Epoch 19/50 | Loss: 0.0450 | Train Acc: 0.8773 | Val Acc: 0.9230\n",
      "Epoch 20/50 | Loss: 0.0444 | Train Acc: 0.8797 | Val Acc: 0.9230\n",
      "Epoch 21/50 | Loss: 0.0439 | Train Acc: 0.8807 | Val Acc: 0.9250\n",
      "Epoch 22/50 | Loss: 0.0434 | Train Acc: 0.8821 | Val Acc: 0.9230\n",
      "Epoch 23/50 | Loss: 0.0429 | Train Acc: 0.8829 | Val Acc: 0.9260\n",
      "Epoch 24/50 | Loss: 0.0425 | Train Acc: 0.8843 | Val Acc: 0.9250\n",
      "Epoch 25/50 | Loss: 0.0421 | Train Acc: 0.8853 | Val Acc: 0.9250\n",
      "Epoch 26/50 | Loss: 0.0417 | Train Acc: 0.8862 | Val Acc: 0.9250\n",
      "Epoch 27/50 | Loss: 0.0413 | Train Acc: 0.8868 | Val Acc: 0.9270\n",
      "Epoch 28/50 | Loss: 0.0410 | Train Acc: 0.8876 | Val Acc: 0.9280\n",
      "Epoch 29/50 | Loss: 0.0407 | Train Acc: 0.8883 | Val Acc: 0.9280\n",
      "Epoch 30/50 | Loss: 0.0404 | Train Acc: 0.8891 | Val Acc: 0.9290\n",
      "Epoch 31/50 | Loss: 0.0401 | Train Acc: 0.8897 | Val Acc: 0.9290\n",
      "Epoch 32/50 | Loss: 0.0398 | Train Acc: 0.8903 | Val Acc: 0.9300\n",
      "Epoch 33/50 | Loss: 0.0396 | Train Acc: 0.8909 | Val Acc: 0.9300\n",
      "Epoch 34/50 | Loss: 0.0393 | Train Acc: 0.8915 | Val Acc: 0.9300\n",
      "Epoch 35/50 | Loss: 0.0391 | Train Acc: 0.8922 | Val Acc: 0.9310\n",
      "Epoch 36/50 | Loss: 0.0388 | Train Acc: 0.8928 | Val Acc: 0.9310\n",
      "Epoch 37/50 | Loss: 0.0386 | Train Acc: 0.8934 | Val Acc: 0.9310\n",
      "Epoch 38/50 | Loss: 0.0384 | Train Acc: 0.8936 | Val Acc: 0.9310\n",
      "Epoch 39/50 | Loss: 0.0382 | Train Acc: 0.8940 | Val Acc: 0.9310\n",
      "Epoch 40/50 | Loss: 0.0380 | Train Acc: 0.8944 | Val Acc: 0.9320\n",
      "Epoch 41/50 | Loss: 0.0378 | Train Acc: 0.8949 | Val Acc: 0.9330\n",
      "Epoch 42/50 | Loss: 0.0377 | Train Acc: 0.8954 | Val Acc: 0.9330\n",
      "Epoch 43/50 | Loss: 0.0375 | Train Acc: 0.8958 | Val Acc: 0.9330\n",
      "Epoch 44/50 | Loss: 0.0373 | Train Acc: 0.8963 | Val Acc: 0.9340\n",
      "Epoch 45/50 | Loss: 0.0371 | Train Acc: 0.8967 | Val Acc: 0.9340\n",
      "Epoch 46/50 | Loss: 0.0370 | Train Acc: 0.8972 | Val Acc: 0.9360\n",
      "Epoch 47/50 | Loss: 0.0368 | Train Acc: 0.8974 | Val Acc: 0.9350\n",
      "Epoch 48/50 | Loss: 0.0367 | Train Acc: 0.8977 | Val Acc: 0.9350\n",
      "Epoch 49/50 | Loss: 0.0366 | Train Acc: 0.8982 | Val Acc: 0.9350\n",
      "Epoch 50/50 | Loss: 0.0364 | Train Acc: 0.8986 | Val Acc: 0.9360\n"
     ]
    }
   ],
   "source": [
    "W1, b1, W2, b2 = train_model(\n",
    "    X=x_train,\n",
    "    y=y_train,\n",
    "    X_val=x_val,\n",
    "    y_val=y_val,\n",
    "    hidden_size=1024,\n",
    "    learning_rate=0.3,\n",
    "    epochs=50\n",
    ")"
   ]
  },
  {
   "cell_type": "code",
   "execution_count": 84,
   "metadata": {},
   "outputs": [],
   "source": [
    "np.savez('model_weights.npz', W1=W1, b1=b1, W2=W2, b2=b2)"
   ]
  }
 ],
 "metadata": {
  "kernelspec": {
   "display_name": "pytorch-gpu",
   "language": "python",
   "name": "python3"
  },
  "language_info": {
   "codemirror_mode": {
    "name": "ipython",
    "version": 3
   },
   "file_extension": ".py",
   "mimetype": "text/x-python",
   "name": "python",
   "nbconvert_exporter": "python",
   "pygments_lexer": "ipython3",
   "version": "3.12.4"
  }
 },
 "nbformat": 4,
 "nbformat_minor": 2
}
